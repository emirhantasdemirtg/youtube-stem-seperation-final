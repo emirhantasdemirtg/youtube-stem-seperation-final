{
  "nbformat": 4,
  "nbformat_minor": 0,
  "metadata": {
    "colab": {
      "provenance": [],
      "gpuType": "T4"
    },
    "kernelspec": {
      "name": "python3",
      "display_name": "Python 3"
    },
    "language_info": {
      "name": "python"
    },
    "accelerator": "GPU",
    "gpuClass": "standard"
  },
  "cells": [
    {
      "cell_type": "code",
      "execution_count": 9,
      "metadata": {
        "colab": {
          "base_uri": "https://localhost:8080/"
        },
        "id": "ZeHF4_x-Gg94",
        "outputId": "ada93e72-eb38-404a-f207-aa1483b4d2df"
      },
      "outputs": [
        {
          "output_type": "stream",
          "name": "stdout",
          "text": [
            "Looking in indexes: https://pypi.org/simple, https://us-python.pkg.dev/colab-wheels/public/simple/\n",
            "Collecting demucs\n",
            "  Cloning https://github.com/facebookresearch/demucs to /tmp/pip-install-r42_wafj/demucs_bd63ce96d5214ad1a0dbe21cf253e201\n",
            "  Running command git clone --filter=blob:none --quiet https://github.com/facebookresearch/demucs /tmp/pip-install-r42_wafj/demucs_bd63ce96d5214ad1a0dbe21cf253e201\n",
            "  Resolved https://github.com/facebookresearch/demucs to commit 8b48c27f82b0e119c91c613eee2ce87ba28575a0\n",
            "  Preparing metadata (setup.py) ... \u001b[?25l\u001b[?25hdone\n",
            "Requirement already satisfied: dora-search in /usr/local/lib/python3.10/dist-packages (from demucs) (0.1.11)\n",
            "Requirement already satisfied: diffq>=0.2.1 in /usr/local/lib/python3.10/dist-packages (from demucs) (0.2.4)\n",
            "Requirement already satisfied: einops in /usr/local/lib/python3.10/dist-packages (from demucs) (0.6.1)\n",
            "Requirement already satisfied: julius>=0.2.3 in /usr/local/lib/python3.10/dist-packages (from demucs) (0.2.7)\n",
            "Requirement already satisfied: lameenc>=1.2 in /usr/local/lib/python3.10/dist-packages (from demucs) (1.4.2)\n",
            "Requirement already satisfied: openunmix in /usr/local/lib/python3.10/dist-packages (from demucs) (1.2.1)\n",
            "Requirement already satisfied: pyyaml in /usr/local/lib/python3.10/dist-packages (from demucs) (6.0)\n",
            "Requirement already satisfied: torch>=1.8.1 in /usr/local/lib/python3.10/dist-packages (from demucs) (2.0.0+cu118)\n",
            "Requirement already satisfied: torchaudio>=0.8 in /usr/local/lib/python3.10/dist-packages (from demucs) (2.0.1+cu118)\n",
            "Requirement already satisfied: tqdm in /usr/local/lib/python3.10/dist-packages (from demucs) (4.65.0)\n",
            "Requirement already satisfied: Cython in /usr/local/lib/python3.10/dist-packages (from diffq>=0.2.1->demucs) (0.29.34)\n",
            "Requirement already satisfied: numpy in /usr/local/lib/python3.10/dist-packages (from diffq>=0.2.1->demucs) (1.22.4)\n",
            "Requirement already satisfied: typing-extensions in /usr/local/lib/python3.10/dist-packages (from torch>=1.8.1->demucs) (4.5.0)\n",
            "Requirement already satisfied: sympy in /usr/local/lib/python3.10/dist-packages (from torch>=1.8.1->demucs) (1.11.1)\n",
            "Requirement already satisfied: jinja2 in /usr/local/lib/python3.10/dist-packages (from torch>=1.8.1->demucs) (3.1.2)\n",
            "Requirement already satisfied: filelock in /usr/local/lib/python3.10/dist-packages (from torch>=1.8.1->demucs) (3.12.0)\n",
            "Requirement already satisfied: triton==2.0.0 in /usr/local/lib/python3.10/dist-packages (from torch>=1.8.1->demucs) (2.0.0)\n",
            "Requirement already satisfied: networkx in /usr/local/lib/python3.10/dist-packages (from torch>=1.8.1->demucs) (3.1)\n",
            "Requirement already satisfied: cmake in /usr/local/lib/python3.10/dist-packages (from triton==2.0.0->torch>=1.8.1->demucs) (3.25.2)\n",
            "Requirement already satisfied: lit in /usr/local/lib/python3.10/dist-packages (from triton==2.0.0->torch>=1.8.1->demucs) (16.0.2)\n",
            "Requirement already satisfied: treetable in /usr/local/lib/python3.10/dist-packages (from dora-search->demucs) (0.2.5)\n",
            "Requirement already satisfied: submitit in /usr/local/lib/python3.10/dist-packages (from dora-search->demucs) (1.4.5)\n",
            "Requirement already satisfied: retrying in /usr/local/lib/python3.10/dist-packages (from dora-search->demucs) (1.3.4)\n",
            "Requirement already satisfied: omegaconf in /usr/local/lib/python3.10/dist-packages (from dora-search->demucs) (2.3.0)\n",
            "Requirement already satisfied: MarkupSafe>=2.0 in /usr/local/lib/python3.10/dist-packages (from jinja2->torch>=1.8.1->demucs) (2.1.2)\n",
            "Requirement already satisfied: antlr4-python3-runtime==4.9.* in /usr/local/lib/python3.10/dist-packages (from omegaconf->dora-search->demucs) (4.9.3)\n",
            "Requirement already satisfied: six>=1.7.0 in /usr/local/lib/python3.10/dist-packages (from retrying->dora-search->demucs) (1.16.0)\n",
            "Requirement already satisfied: cloudpickle>=1.2.1 in /usr/local/lib/python3.10/dist-packages (from submitit->dora-search->demucs) (2.2.1)\n",
            "Requirement already satisfied: mpmath>=0.19 in /usr/local/lib/python3.10/dist-packages (from sympy->torch>=1.8.1->demucs) (1.3.0)\n",
            "Looking in indexes: https://pypi.org/simple, https://us-python.pkg.dev/colab-wheels/public/simple/\n",
            "Requirement already satisfied: torch in /usr/local/lib/python3.10/dist-packages (2.0.0+cu118)\n",
            "Requirement already satisfied: numpy in /usr/local/lib/python3.10/dist-packages (1.22.4)\n",
            "Requirement already satisfied: scipy in /usr/local/lib/python3.10/dist-packages (1.10.1)\n",
            "Requirement already satisfied: soundfile in /usr/local/lib/python3.10/dist-packages (0.12.1)\n",
            "Requirement already satisfied: ffmpeg-python in /usr/local/lib/python3.10/dist-packages (0.2.0)\n",
            "Requirement already satisfied: PySoundFile in /usr/local/lib/python3.10/dist-packages (0.9.0.post1)\n",
            "Requirement already satisfied: tqdm in /usr/local/lib/python3.10/dist-packages (4.65.0)\n",
            "Requirement already satisfied: yt_dlp in /usr/local/lib/python3.10/dist-packages (2023.3.4)\n",
            "Requirement already satisfied: sympy in /usr/local/lib/python3.10/dist-packages (from torch) (1.11.1)\n",
            "Requirement already satisfied: triton==2.0.0 in /usr/local/lib/python3.10/dist-packages (from torch) (2.0.0)\n",
            "Requirement already satisfied: jinja2 in /usr/local/lib/python3.10/dist-packages (from torch) (3.1.2)\n",
            "Requirement already satisfied: typing-extensions in /usr/local/lib/python3.10/dist-packages (from torch) (4.5.0)\n",
            "Requirement already satisfied: filelock in /usr/local/lib/python3.10/dist-packages (from torch) (3.12.0)\n",
            "Requirement already satisfied: networkx in /usr/local/lib/python3.10/dist-packages (from torch) (3.1)\n",
            "Requirement already satisfied: lit in /usr/local/lib/python3.10/dist-packages (from triton==2.0.0->torch) (16.0.2)\n",
            "Requirement already satisfied: cmake in /usr/local/lib/python3.10/dist-packages (from triton==2.0.0->torch) (3.25.2)\n",
            "Requirement already satisfied: cffi>=1.0 in /usr/local/lib/python3.10/dist-packages (from soundfile) (1.15.1)\n",
            "Requirement already satisfied: future in /usr/local/lib/python3.10/dist-packages (from ffmpeg-python) (0.18.3)\n",
            "Requirement already satisfied: brotli in /usr/local/lib/python3.10/dist-packages (from yt_dlp) (1.0.9)\n",
            "Requirement already satisfied: mutagen in /usr/local/lib/python3.10/dist-packages (from yt_dlp) (1.46.0)\n",
            "Requirement already satisfied: pycryptodomex in /usr/local/lib/python3.10/dist-packages (from yt_dlp) (3.17)\n",
            "Requirement already satisfied: certifi in /usr/local/lib/python3.10/dist-packages (from yt_dlp) (2022.12.7)\n",
            "Requirement already satisfied: websockets in /usr/local/lib/python3.10/dist-packages (from yt_dlp) (11.0.2)\n",
            "Requirement already satisfied: pycparser in /usr/local/lib/python3.10/dist-packages (from cffi>=1.0->soundfile) (2.21)\n",
            "Requirement already satisfied: MarkupSafe>=2.0 in /usr/local/lib/python3.10/dist-packages (from jinja2->torch) (2.1.2)\n",
            "Requirement already satisfied: mpmath>=0.19 in /usr/local/lib/python3.10/dist-packages (from sympy->torch) (1.3.0)\n"
          ]
        }
      ],
      "source": [
        "!python3 -m pip install -U git+https://github.com/facebookresearch/demucs#egg=demucs\n",
        "!pip install torch numpy scipy soundfile ffmpeg-python PySoundFile tqdm yt_dlp"
      ]
    },
    {
      "cell_type": "code",
      "source": [
        "import yt_dlp\n",
        "import io\n",
        "from pathlib import Path\n",
        "import select\n",
        "from shutil import rmtree\n",
        "import subprocess as sp\n",
        "import sys\n",
        "from typing import Dict, Tuple, Optional, IO\n",
        "from google.colab import files\n",
        "import zipfile\n",
        "import os\n"
      ],
      "metadata": {
        "id": "r7v7tQMeNveA"
      },
      "execution_count": 10,
      "outputs": []
    },
    {
      "cell_type": "code",
      "source": [
        "# Customize the following options!\n",
        "model = \"htdemucs_ft\"\n",
        "extensions = [\"mp3\", \"wav\", \"ogg\", \"flac\"]  # we will look for all those file types.\n",
        "two_stems = None   # only separate one stems from the rest, for instance\n",
        "# two_stems = \"vocals\"\n",
        "\n",
        "# Options for the output audio.\n",
        "mp3 = True\n",
        "mp3_rate = 320\n",
        "float32 = False  # output as float 32 wavs, unsused if 'mp3' is True.\n",
        "int24 = False    # output as int24 wavs, unused if 'mp3' is True.\n",
        "# You cannot set both `float32 = True` and `int24 = True` !!\n",
        "\n",
        "in_path = '/content/demucs'\n",
        "out_path = '/content/demucs_separated'"
      ],
      "metadata": {
        "id": "vP6B2v3-H_n2"
      },
      "execution_count": 11,
      "outputs": []
    },
    {
      "cell_type": "code",
      "source": [
        "\n",
        "# Prompt the user to enter a YouTube URL\n",
        "url = input(\"Enter a YouTube URL to download audio from: \")\n",
        "\n",
        "# Create output directory if it doesn't exist\n",
        "Path(out_path).mkdir(parents=True, exist_ok=True)\n",
        "\n",
        "# Download audio from the entered URL and save to the input directory\n",
        "ydl_opts = {\n",
        "    'format': 'bestaudio/best',\n",
        "    'outtmpl': os.path.join(in_path, '%(title)s.%(ext)s'),\n",
        "    'postprocessors': [{\n",
        "        'key': 'FFmpegExtractAudio',\n",
        "        'preferredcodec': 'mp3',\n",
        "        'preferredquality': '320'\n",
        "    }]\n",
        "}\n",
        "\n",
        "with yt_dlp.YoutubeDL(ydl_opts) as ydl:\n",
        "    ydl.download([url])"
      ],
      "metadata": {
        "colab": {
          "base_uri": "https://localhost:8080/"
        },
        "id": "dCfwprb4Vxnv",
        "outputId": "7628cb5d-bd94-4f71-d694-493945b950f2"
      },
      "execution_count": 12,
      "outputs": [
        {
          "output_type": "stream",
          "name": "stdout",
          "text": [
            "Enter a YouTube URL to download audio from: https://www.youtube.com/watch?v=MAabzMP5WSg\n",
            "[youtube] Extracting URL: https://www.youtube.com/watch?v=MAabzMP5WSg\n",
            "[youtube] MAabzMP5WSg: Downloading webpage\n",
            "[youtube] MAabzMP5WSg: Downloading android player API JSON\n",
            "[info] MAabzMP5WSg: Downloading 1 format(s): 251\n",
            "[dashsegments] Total fragments: 1\n",
            "[download] Destination: /content/demucs/Impellitteri - Venom (Official ⧸ New ⧸ Studio Album ⧸ 2015).webm\n",
            "[download] 100% of    3.49MiB in 00:00:00 at 12.37MiB/s              \n",
            "[ExtractAudio] Destination: /content/demucs/Impellitteri - Venom (Official ⧸ New ⧸ Studio Album ⧸ 2015).mp3\n",
            "Deleting original file /content/demucs/Impellitteri - Venom (Official ⧸ New ⧸ Studio Album ⧸ 2015).webm (pass -k to keep)\n"
          ]
        }
      ]
    },
    {
      "cell_type": "code",
      "source": [
        "\n",
        "def find_files(in_path):\n",
        "    out = []\n",
        "    for file in Path(in_path).iterdir():\n",
        "        if file.suffix.lower().lstrip(\".\") in extensions:\n",
        "            out.append(file)\n",
        "    return out\n",
        "\n",
        "def copy_process_streams(process: sp.Popen):\n",
        "    def raw(stream: Optional[IO[bytes]]) -> IO[bytes]:\n",
        "        assert stream is not None\n",
        "        if isinstance(stream, io.BufferedIOBase):\n",
        "            stream = stream.raw\n",
        "        return stream\n",
        "\n",
        "    p_stdout, p_stderr = raw(process.stdout), raw(process.stderr)\n",
        "    stream_by_fd: Dict[int, Tuple[IO[bytes], io.StringIO, IO[str]]] = {\n",
        "        p_stdout.fileno(): (p_stdout, sys.stdout),\n",
        "        p_stderr.fileno(): (p_stderr, sys.stderr),\n",
        "    }\n",
        "    fds = list(stream_by_fd.keys())\n",
        "\n",
        "    while fds:\n",
        "        # `select` syscall will wait until one of the file descriptors has content.\n",
        "        ready, _, _ = select.select(fds, [], [])\n",
        "        for fd in ready:\n",
        "            p_stream, std = stream_by_fd[fd]\n",
        "            raw_buf = p_stream.read(2 ** 16)\n",
        "            if not raw_buf:\n",
        "                fds.remove(fd)\n",
        "                continue\n",
        "            buf = raw_buf.decode()\n",
        "            std.write(buf)\n",
        "            std.flush()\n",
        "\n",
        "def separate(inp=None, outp=None):\n",
        "    inp = inp or in_path\n",
        "    outp = outp or out_path\n",
        "    cmd = [\"python3\", \"-m\", \"demucs.separate\", \"-o\", str(outp), \"-n\", model]\n",
        "    if mp3:\n",
        "        cmd += [\"--mp3\", f\"--mp3-bitrate={mp3_rate}\"]\n",
        "    if float32:\n",
        "        cmd += [\"--float32\"]\n",
        "    if int24:\n",
        "        cmd += [\"--int24\"]\n",
        "    if two_stems is not None:\n",
        "        cmd += [f\"--two-stems={two_stems}\"]\n",
        "    files = [str(f) for f in find_files(inp)]\n",
        "    if not files:\n",
        "        print(f\"No valid audio files in {in_path}\")\n",
        "        return\n",
        "    print(\"Going to separate the files:\")\n",
        "    print('\\n'.join(files))\n",
        "    print(\"With command: \", \" \".join(cmd))\n",
        "    p = sp.Popen(cmd + files, stdout=sp.PIPE, stderr=sp.PIPE)\n",
        "    copy_process_streams(p)\n",
        "    p.wait()\n",
        "    if p.returncode != 0:\n",
        "        print(\"Command failed, something went wrong.\")\n",
        "\n",
        "\n",
        "def from_upload():\n",
        "    out_path = Path('separated')\n",
        "    in_path = Path('tmp_in')\n",
        "    \n",
        "    if in_path.exists():\n",
        "        rmtree(in_path)\n",
        "    in_path.mkdir()\n",
        "    \n",
        "    if out_path.exists():\n",
        "        rmtree(out_path)\n",
        "    out_path.mkdir()\n",
        "    \n",
        "    uploaded = files.upload()\n",
        "    for name, content in uploaded.items():\n",
        "        (in_path / name).write_bytes(content)\n",
        "    separate(in_path, out_path)"
      ],
      "metadata": {
        "id": "gBsK_YiOVJ8M"
      },
      "execution_count": 13,
      "outputs": []
    },
    {
      "cell_type": "code",
      "source": [
        "separate()"
      ],
      "metadata": {
        "colab": {
          "base_uri": "https://localhost:8080/"
        },
        "id": "ZaCeJbSsVMnk",
        "outputId": "419ac5b5-9aaa-4fb0-b23e-fe3aae60a001"
      },
      "execution_count": null,
      "outputs": [
        {
          "output_type": "stream",
          "name": "stdout",
          "text": [
            "Going to separate the files:\n",
            "/content/demucs/Impellitteri - Venom (Official ⧸ New ⧸ Studio Album ⧸ 2015).mp3\n",
            "With command:  python3 -m demucs.separate -o /content/demucs_separated -n htdemucs_ft --mp3 --mp3-bitrate=320\n"
          ]
        },
        {
          "output_type": "stream",
          "name": "stderr",
          "text": [
            "Downloading: \"https://dl.fbaipublicfiles.com/demucs/hybrid_transformer/f7e0c4bc-ba3fe64a.th\" to /root/.cache/torch/hub/checkpoints/f7e0c4bc-ba3fe64a.th\n",
            "100%|██████████| 80.2M/80.2M [00:00<00:00, 150MB/s]\n",
            "Downloading: \"https://dl.fbaipublicfiles.com/demucs/hybrid_transformer/d12395a8-e57c48e6.th\" to /root/.cache/torch/hub/checkpoints/d12395a8-e57c48e6.th\n",
            "100%|██████████| 80.2M/80.2M [00:00<00:00, 149MB/s]\n",
            "Downloading: \"https://dl.fbaipublicfiles.com/demucs/hybrid_transformer/92cfc3b6-ef3bcb9c.th\" to /root/.cache/torch/hub/checkpoints/92cfc3b6-ef3bcb9c.th\n",
            "100%|██████████| 80.2M/80.2M [00:00<00:00, 119MB/s]\n",
            "Downloading: \"https://dl.fbaipublicfiles.com/demucs/hybrid_transformer/04573f0d-f3cf25b2.th\" to /root/.cache/torch/hub/checkpoints/04573f0d-f3cf25b2.th\n",
            "100%|██████████| 80.2M/80.2M [00:00<00:00, 130MB/s]\n"
          ]
        }
      ]
    },
    {
      "cell_type": "code",
      "source": [
        "\n",
        "\n",
        "\n",
        "# Download\n",
        "from google.colab import files\n",
        "files.download(\"/content/demucs_separated/htdemucs_ft\")"
      ],
      "metadata": {
        "id": "h8kvMo18X-kE"
      },
      "execution_count": null,
      "outputs": []
    }
  ]
}